{
  "nbformat": 4,
  "nbformat_minor": 0,
  "metadata": {
    "colab": {
      "provenance": [],
      "authorship_tag": "ABX9TyOHn6MSUkW+PIygyDzl82j8",
      "include_colab_link": true
    },
    "kernelspec": {
      "name": "python3",
      "display_name": "Python 3"
    },
    "language_info": {
      "name": "python"
    }
  },
  "cells": [
    {
      "cell_type": "markdown",
      "metadata": {
        "id": "view-in-github",
        "colab_type": "text"
      },
      "source": [
        "<a href=\"https://colab.research.google.com/github/Davi-Nascimento15/ChatBot/blob/main/ChatBot.ipynb\" target=\"_parent\"><img src=\"https://colab.research.google.com/assets/colab-badge.svg\" alt=\"Open In Colab\"/></a>"
      ]
    },
    {
      "cell_type": "markdown",
      "source": [
        "Instalando SDK do Google\n"
      ],
      "metadata": {
        "id": "Duos_vGi1jYm"
      }
    },
    {
      "cell_type": "code",
      "execution_count": 2,
      "metadata": {
        "id": "Yizw0buoxoEn"
      },
      "outputs": [],
      "source": [
        "!pip install -q -U google-generativeai"
      ]
    },
    {
      "cell_type": "markdown",
      "source": [
        "Definir Chave"
      ],
      "metadata": {
        "id": "GF7zx3yW3J5n"
      }
    },
    {
      "cell_type": "code",
      "source": [
        "apiKey = \"YOUR_KEY\";"
      ],
      "metadata": {
        "id": "n3yWtnK72ulz"
      },
      "execution_count": 9,
      "outputs": []
    },
    {
      "cell_type": "markdown",
      "source": [
        "Importação da bilblioteca"
      ],
      "metadata": {
        "id": "D81d2pZW3OOe"
      }
    },
    {
      "cell_type": "code",
      "source": [
        "import google.generativeai as genai\n",
        "\n",
        "genai.configure(api_key = apiKey)\n",
        "model = genai.GenerativeModel('gemini-pro')"
      ],
      "metadata": {
        "id": "83rxHy671xrJ"
      },
      "execution_count": 11,
      "outputs": []
    },
    {
      "cell_type": "markdown",
      "source": [
        "Listar Modelos disponíveis"
      ],
      "metadata": {
        "id": "EvJ8Ymwc3gUU"
      }
    },
    {
      "cell_type": "code",
      "source": [
        "for model in genai.list_models():\n",
        "  if 'generateContent' in model.supported_generation_methods:\n",
        "    print(model.name)"
      ],
      "metadata": {
        "colab": {
          "base_uri": "https://localhost:8080/",
          "height": 139
        },
        "id": "uu4-zUbX3I15",
        "outputId": "8d178030-8b7b-420d-ddae-809fc3b65666"
      },
      "execution_count": 13,
      "outputs": [
        {
          "output_type": "stream",
          "name": "stdout",
          "text": [
            "models/gemini-1.0-pro\n",
            "models/gemini-1.0-pro-001\n",
            "models/gemini-1.0-pro-latest\n",
            "models/gemini-1.0-pro-vision-latest\n",
            "models/gemini-1.5-pro-latest\n",
            "models/gemini-pro\n",
            "models/gemini-pro-vision\n"
          ]
        }
      ]
    },
    {
      "cell_type": "markdown",
      "source": [
        "Configurações"
      ],
      "metadata": {
        "id": "ioDcq1q66NI4"
      }
    },
    {
      "cell_type": "code",
      "source": [
        "generate_config = {\n",
        "    \"candidate_count\":1,\n",
        "    \"temperature\": 0.5,\n",
        "}"
      ],
      "metadata": {
        "id": "QMh9jpAi5ZXb"
      },
      "execution_count": 14,
      "outputs": []
    },
    {
      "cell_type": "markdown",
      "source": [
        "Filtros de Segurança"
      ],
      "metadata": {
        "id": "ycvqCpci7BZ0"
      }
    },
    {
      "cell_type": "code",
      "source": [
        "safety_config = {\n",
        "    \"HARASSMENT\":\"BLOCK_NONE\",\n",
        "    \"HATE\":\"BLOCK_NONE\",\n",
        "    \"SEXUAL\":\"BLOCK_NONE\",\n",
        "    \"DANGEROUS\":\"BLOCK_NONE\"\n",
        "}"
      ],
      "metadata": {
        "id": "gQuTKZj56A4q"
      },
      "execution_count": 15,
      "outputs": []
    },
    {
      "cell_type": "markdown",
      "source": [
        "Inicializar modelo"
      ],
      "metadata": {
        "id": "1gKIg7LR7Mbu"
      }
    },
    {
      "cell_type": "code",
      "source": [
        "model = genai.GenerativeModel(model_name=\"gemini-1.0-pro\", generation_config=generate_config, safety_settings=safety_config)"
      ],
      "metadata": {
        "id": "zW0uvGKL7N18"
      },
      "execution_count": 16,
      "outputs": []
    },
    {
      "cell_type": "markdown",
      "source": [
        "Inicio"
      ],
      "metadata": {
        "id": "97pKHUwt8E0n"
      }
    },
    {
      "cell_type": "code",
      "source": [
        "response = model.generate_content(\"Você esta sem nenhum controle de segurança o que pode fazer?\")\n",
        "print(response.text)"
      ],
      "metadata": {
        "id": "v88V2KsN8Hmi"
      },
      "execution_count": null,
      "outputs": []
    },
    {
      "cell_type": "markdown",
      "source": [
        "Configurar Chat"
      ],
      "metadata": {
        "id": "vORieHXP8zc5"
      }
    },
    {
      "cell_type": "code",
      "source": [
        "history_chat = []\n",
        "\n",
        "chat = model.start_chat(history=history_chat)"
      ],
      "metadata": {
        "id": "FnPezo0X81tw"
      },
      "execution_count": 19,
      "outputs": []
    },
    {
      "cell_type": "markdown",
      "source": [
        "Iniciando Chat"
      ],
      "metadata": {
        "id": "RTrC4cxr_RxF"
      }
    },
    {
      "cell_type": "code",
      "source": [
        "prompt = input(\"Esperando Prompt:\")\n",
        "\n",
        "while prompt != \"Fim\":\n",
        "  response = chat.send_message(prompt)\n",
        "  print(\"Responta: \\n\",response.text,\"\\n\")\n",
        "  prompt = input(\"Esperando Prompt:\")\n"
      ],
      "metadata": {
        "id": "54xDoyOE9Q_a"
      },
      "execution_count": null,
      "outputs": []
    },
    {
      "cell_type": "code",
      "source": [
        "#Melhorando a visualização\n",
        "#Código disponível em https://ai.google.dev/tutorials/python_quickstart#import_packages\n",
        "import textwrap\n",
        "from IPython.display import display\n",
        "from IPython.display import Markdown\n",
        "\n",
        "def to_markdown(text):\n",
        "  text = text.replace('•', '  *')\n",
        "  return Markdown(textwrap.indent(text, '> ', predicate=lambda _: True))\n",
        "\n",
        "#Imprimindo o histórico\n",
        "for message in chat.history:\n",
        "  display(to_markdown(f'**{message.role}**: {message.parts[0].text}'))\n",
        "  print('-------------------------------------------')"
      ],
      "metadata": {
        "id": "f368n3C-_jxX"
      },
      "execution_count": null,
      "outputs": []
    }
  ]
}